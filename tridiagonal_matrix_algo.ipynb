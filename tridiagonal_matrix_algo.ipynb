{
 "cells": [
  {
   "cell_type": "code",
   "execution_count": 1,
   "metadata": {
    "collapsed": true,
    "ExecuteTime": {
     "start_time": "2023-04-19T21:06:16.948926Z",
     "end_time": "2023-04-19T21:06:17.164510Z"
    }
   },
   "outputs": [],
   "source": [
    "import numpy as np\n",
    "import pprint"
   ]
  },
  {
   "cell_type": "code",
   "execution_count": 2,
   "outputs": [],
   "source": [
    "matrix_default = np.array([[2.0,4.0,0.0,20.0], [4.0,1.0,5.0,37.0], [0.0,5.0,2.0,30.0]], dtype=np.double)\n",
    "dict_variables = dict()"
   ],
   "metadata": {
    "collapsed": false,
    "ExecuteTime": {
     "start_time": "2023-04-19T21:06:17.164510Z",
     "end_time": "2023-04-19T21:06:17.180237Z"
    }
   }
  },
  {
   "cell_type": "code",
   "execution_count": 3,
   "outputs": [],
   "source": [
    "def a(variable: str):\n",
    "    global matrix_default\n",
    "    var_index = int(variable[1:])\n",
    "    return matrix_default[var_index + 1][var_index]"
   ],
   "metadata": {
    "collapsed": false,
    "ExecuteTime": {
     "start_time": "2023-04-19T21:06:17.180237Z",
     "end_time": "2023-04-19T21:06:17.195874Z"
    }
   }
  },
  {
   "cell_type": "code",
   "execution_count": 4,
   "outputs": [],
   "source": [
    "def b(variable: str):\n",
    "    global matrix_default\n",
    "    var_index = int(variable[1:])\n",
    "    return matrix_default[var_index][var_index]"
   ],
   "metadata": {
    "collapsed": false,
    "ExecuteTime": {
     "start_time": "2023-04-19T21:06:17.195874Z",
     "end_time": "2023-04-19T21:06:17.211443Z"
    }
   }
  },
  {
   "cell_type": "code",
   "execution_count": 5,
   "outputs": [],
   "source": [
    "def c(variable: str):\n",
    "    global matrix_default\n",
    "    var_index = int(variable[1:])\n",
    "    return matrix_default[var_index][var_index + 1]"
   ],
   "metadata": {
    "collapsed": false,
    "ExecuteTime": {
     "start_time": "2023-04-19T21:06:17.211443Z",
     "end_time": "2023-04-19T21:06:17.227032Z"
    }
   }
  },
  {
   "cell_type": "code",
   "execution_count": 6,
   "outputs": [],
   "source": [
    "def d(variable: str):\n",
    "    global matrix_default\n",
    "    var_index = int(variable[1:])\n",
    "    return matrix_default[var_index][3]"
   ],
   "metadata": {
    "collapsed": false,
    "ExecuteTime": {
     "start_time": "2023-04-19T21:06:17.227032Z",
     "end_time": "2023-04-19T21:06:17.242694Z"
    }
   }
  },
  {
   "cell_type": "code",
   "execution_count": 7,
   "outputs": [],
   "source": [
    "def create_variables(count: int, dict_variables: dict):\n",
    "    for i in range(0, count):\n",
    "        variable_name = f\"x{i}\"\n",
    "        variable_value = None\n",
    "        dict_variables[variable_name] = variable_value\n",
    "    return dict_variables"
   ],
   "metadata": {
    "collapsed": false,
    "ExecuteTime": {
     "start_time": "2023-04-19T21:06:17.242694Z",
     "end_time": "2023-04-19T21:06:17.258796Z"
    }
   }
  },
  {
   "cell_type": "code",
   "execution_count": 8,
   "outputs": [],
   "source": [
    "def create_a_b(count: int, dict_variables: dict):\n",
    "    for i in range(0, count):\n",
    "        if i == count - 1:\n",
    "            variable_b = f\"b_ind{i}\"\n",
    "            dict_variables[variable_b] = (d(f\"d{i}\") - a(f\"a{i-1}\") * dict_variables[f\"b_ind{i - 1}\"]) / (a(f\"a{i-1}\") * dict_variables[f\"a_ind{i - 1}\"] + b(f\"b{i}\"))\n",
    "        elif i == 0:\n",
    "                variable_a = f\"a_ind{i}\"\n",
    "                variable_b = f\"b_ind{i}\"\n",
    "                dict_variables[variable_a] = -(c(f\"c{i}\")/b(f\"b{i}\"))\n",
    "                dict_variables[variable_b] = (d(f\"c{i}\")/b(f\"b{i}\"))\n",
    "        else:\n",
    "            variable_a = f\"a_ind{i}\"\n",
    "            variable_b = f\"b_ind{i}\"\n",
    "            dict_variables[variable_a] = - (c(f\"c{i}\"))/(a(f\"a{i-1}\") * dict_variables[f\"a_ind{i - 1}\"] + b(f\"b{i}\"))\n",
    "            dict_variables[variable_b] = (d(f\"d{i}\") - a(f\"a{i-1}\") * dict_variables[f\"b_ind{i - 1}\"]) / (a(f\"a{i-1}\") * dict_variables[f\"a_ind{i - 1}\"] + b(f\"b{i}\"))\n",
    "    return dict_variables"
   ],
   "metadata": {
    "collapsed": false,
    "ExecuteTime": {
     "start_time": "2023-04-19T21:06:17.258796Z",
     "end_time": "2023-04-19T21:06:17.274463Z"
    }
   }
  },
  {
   "cell_type": "code",
   "execution_count": 9,
   "outputs": [],
   "source": [
    "def assign_variables(count: int, dict_variables: dict):\n",
    "    for i in range(0, count):\n",
    "        if i == count - 1:\n",
    "            dict_variables[f\"x{i}\"] = f\"b_ind{i}\"\n",
    "        else:\n",
    "            dict_variables[f\"x{i}\"] = f\"a_ind{i}*x{i+1}+b_ind{i}\"\n",
    "    return dict_variables"
   ],
   "metadata": {
    "collapsed": false,
    "ExecuteTime": {
     "start_time": "2023-04-19T21:06:17.274463Z",
     "end_time": "2023-04-19T21:06:17.290107Z"
    }
   }
  },
  {
   "cell_type": "code",
   "execution_count": 10,
   "outputs": [],
   "source": [
    "def calculate_x_regex(string_to_match: str):\n",
    "    import re\n",
    "    string = string_to_match\n",
    "    pattern = r'(a_ind\\d+)\\*(x\\d+)\\+(b_ind\\d+)'\n",
    "\n",
    "    match = re.match(pattern, string)\n",
    "    if match:\n",
    "        a = match.group(1)\n",
    "        x = match.group(2)\n",
    "        b = match.group(3)\n",
    "        return str(a),str(x),str(b)\n",
    "    else:\n",
    "        print(\"No match found\")"
   ],
   "metadata": {
    "collapsed": false,
    "ExecuteTime": {
     "start_time": "2023-04-19T21:06:17.290107Z",
     "end_time": "2023-04-19T21:06:17.305717Z"
    }
   }
  },
  {
   "cell_type": "code",
   "execution_count": 11,
   "outputs": [],
   "source": [
    "def calculate_x(count:int, dict_variables: dict):\n",
    "    for i in range(count, -1, -1):\n",
    "        if i == count:\n",
    "            dict_variables[f\"x{i}\"] = dict_variables[f\"b_ind{i}\"]\n",
    "        else:\n",
    "            a,x,b = calculate_x_regex(dict_variables[f\"x{i}\"])\n",
    "            dict_variables[f\"x{i}\"] = dict_variables[a] * dict_variables[x] + dict_variables[b]\n",
    "    return dict_variables"
   ],
   "metadata": {
    "collapsed": false,
    "ExecuteTime": {
     "start_time": "2023-04-19T21:06:17.509878Z",
     "end_time": "2023-04-19T21:06:17.525505Z"
    }
   }
  },
  {
   "cell_type": "code",
   "execution_count": 12,
   "outputs": [
    {
     "name": "stdout",
     "output_type": "stream",
     "text": [
      "{'a_ind0': -2.0,\n",
      " 'a_ind1': 0.7142857142857143,\n",
      " 'b_ind0': 10.0,\n",
      " 'b_ind1': 0.42857142857142855,\n",
      " 'b_ind2': 5.0,\n",
      " 'x0': 2.0,\n",
      " 'x1': 4.0,\n",
      " 'x2': 5.0}\n",
      "'Determinant: -78.0'\n"
     ]
    }
   ],
   "source": [
    "dict_variables = create_variables(3, dict_variables)\n",
    "dict_variables = create_a_b(3, dict_variables)\n",
    "dict_variables = assign_variables(3, dict_variables)\n",
    "dict_variables = calculate_x(2, dict_variables)\n",
    "pprint.pprint(dict_variables)\n",
    "pprint.pprint(\"Determinant: \" + str(np.linalg.det(matrix_default[:3, :3])))"
   ],
   "metadata": {
    "collapsed": false,
    "ExecuteTime": {
     "start_time": "2023-04-19T21:06:18.475112Z",
     "end_time": "2023-04-19T21:06:18.490663Z"
    }
   }
  }
 ],
 "metadata": {
  "kernelspec": {
   "display_name": "Python 3",
   "language": "python",
   "name": "python3"
  },
  "language_info": {
   "codemirror_mode": {
    "name": "ipython",
    "version": 2
   },
   "file_extension": ".py",
   "mimetype": "text/x-python",
   "name": "python",
   "nbconvert_exporter": "python",
   "pygments_lexer": "ipython2",
   "version": "2.7.6"
  }
 },
 "nbformat": 4,
 "nbformat_minor": 0
}
