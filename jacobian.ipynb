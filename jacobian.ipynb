{
 "cells": [
  {
   "cell_type": "code",
   "execution_count": 1,
   "outputs": [],
   "source": [
    "epsilon = pow(10, -1)\n",
    "vector_default = [0,0,0,0]\n",
    "counter = 1\n",
    "condition = True"
   ],
   "metadata": {
    "collapsed": false,
    "ExecuteTime": {
     "start_time": "2023-04-19T23:51:37.058995Z",
     "end_time": "2023-04-19T23:51:37.074689Z"
    }
   }
  },
  {
   "cell_type": "code",
   "execution_count": 2,
   "outputs": [],
   "source": [
    "def new_vector(vector_def):\n",
    "    x1 = vector_def[0]\n",
    "    x2 = vector_def[1]\n",
    "    x3 = vector_def[2]\n",
    "    x4 = vector_def[3]\n",
    "    lin_1 = (-(x3 +x4) + 11)/4\n",
    "    lin_2 = (-x3 + 10)/3\n",
    "    lin_3 = (-x1 + 7)/2\n",
    "    lin_4 = (-(x1 + x2) + 23)/5\n",
    "    return lin_1, lin_2, lin_3, lin_4"
   ],
   "metadata": {
    "collapsed": false,
    "ExecuteTime": {
     "start_time": "2023-04-19T23:51:37.074689Z",
     "end_time": "2023-04-19T23:51:37.090313Z"
    }
   }
  },
  {
   "cell_type": "code",
   "execution_count": 3,
   "outputs": [],
   "source": [
    "def check_eps(vector_1, vector_2):\n",
    "    global epsilon\n",
    "    vector_res = []\n",
    "    for i in range(4):\n",
    "        vector_res.append(vector_1[i] - vector_2[i])\n",
    "    print(f\"Value: {abs(max(vector_res, key=abs))} Epsilon: {epsilon}\")\n",
    "    if abs(max(vector_res, key=abs)) >= epsilon:\n",
    "        return False\n",
    "    return True"
   ],
   "metadata": {
    "collapsed": false,
    "ExecuteTime": {
     "start_time": "2023-04-19T23:51:37.090313Z",
     "end_time": "2023-04-19T23:51:37.105937Z"
    }
   }
  },
  {
   "cell_type": "code",
   "execution_count": 4,
   "outputs": [
    {
     "name": "stdout",
     "output_type": "stream",
     "text": [
      "Iteration: 1\n",
      "x1=0\n",
      "x2=0\n",
      "x3=0\n",
      "x4=0\n",
      "\n",
      "Value: 4.6 Epsilon: 0.1\n",
      "Iteration: 2\n",
      "x1=2.75\n",
      "x2=3.3333333333333335\n",
      "x3=3.5\n",
      "x4=4.6\n",
      "\n",
      "Value: 2.025 Epsilon: 0.1\n",
      "Iteration: 3\n",
      "x1=0.7250000000000001\n",
      "x2=2.1666666666666665\n",
      "x3=2.125\n",
      "x4=3.383333333333333\n",
      "\n",
      "Value: 1.0125000000000002 Epsilon: 0.1\n",
      "Iteration: 4\n",
      "x1=1.3729166666666668\n",
      "x2=2.625\n",
      "x3=3.1375\n",
      "x4=4.0216666666666665\n",
      "\n",
      "Value: 0.41270833333333345 Epsilon: 0.1\n",
      "Iteration: 5\n",
      "x1=0.9602083333333333\n",
      "x2=2.2875\n",
      "x3=2.8135416666666666\n",
      "x4=3.800416666666666\n",
      "\n",
      "Value: 0.20635416666666684 Epsilon: 0.1\n",
      "Iteration: 6\n",
      "x1=1.0965104166666668\n",
      "x2=2.395486111111111\n",
      "x3=3.0198958333333334\n",
      "x4=3.9504583333333327\n",
      "\n",
      "Value: 0.08909895833333348 Epsilon: 0.1\n",
      "Iteration: 7\n",
      "x1=1.0074114583333333\n",
      "x2=2.326701388888889\n",
      "x3=2.9517447916666666\n",
      "x4=3.9016006944444444\n",
      "\n",
      "Solution vector:  (1.0074114583333333, 2.326701388888889, 2.9517447916666666, 3.9016006944444444)\n"
     ]
    }
   ],
   "source": [
    "while condition:\n",
    "    print(f\"Iteration: {counter}\\n\"\n",
    "          f\"x1={vector_default[0]}\\n\"\n",
    "          f\"x2={vector_default[1]}\\n\"\n",
    "          f\"x3={vector_default[2]}\\n\"\n",
    "          f\"x4={vector_default[3]}\\n\")\n",
    "    vector_new = new_vector(vector_default)\n",
    "    if check_eps(vector_new, vector_default) == False:\n",
    "       vector_default = vector_new\n",
    "    else:\n",
    "        print(f\"Iteration: {counter + 1}\\n\"\n",
    "              f\"x1={vector_new[0]}\\n\"\n",
    "              f\"x2={vector_new[1]}\\n\"\n",
    "              f\"x3={vector_new[2]}\\n\"\n",
    "              f\"x4={vector_new[3]}\\n\")\n",
    "        print(\"Solution vector: \",  vector_new)\n",
    "        break\n",
    "    counter += 1"
   ],
   "metadata": {
    "collapsed": false,
    "ExecuteTime": {
     "start_time": "2023-04-19T23:51:37.105937Z",
     "end_time": "2023-04-19T23:51:37.121995Z"
    }
   }
  }
 ],
 "metadata": {
  "kernelspec": {
   "display_name": "Python 3",
   "language": "python",
   "name": "python3"
  },
  "language_info": {
   "codemirror_mode": {
    "name": "ipython",
    "version": 2
   },
   "file_extension": ".py",
   "mimetype": "text/x-python",
   "name": "python",
   "nbconvert_exporter": "python",
   "pygments_lexer": "ipython2",
   "version": "2.7.6"
  }
 },
 "nbformat": 4,
 "nbformat_minor": 0
}
