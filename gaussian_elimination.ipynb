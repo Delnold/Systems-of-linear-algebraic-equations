{
 "cells": [
  {
   "cell_type": "code",
   "execution_count": 2,
   "metadata": {
    "ExecuteTime": {
     "start_time": "2023-04-19T15:56:21.470203Z",
     "end_time": "2023-04-19T15:56:21.501457Z"
    }
   },
   "outputs": [],
   "source": [
    "import numpy as np"
   ]
  },
  {
   "cell_type": "code",
   "execution_count": 3,
   "metadata": {
    "ExecuteTime": {
     "start_time": "2023-04-19T15:56:21.846968Z",
     "end_time": "2023-04-19T15:56:21.861978Z"
    }
   },
   "outputs": [],
   "source": [
    "matrix_default = np.array([[5.0,2.0,1.0,0.0,14], [1.0,3.0,2.0,8.0,65], [4.0,-6.0,1.0,0.0,-3], [5.0,0.0,3.0,2.0,32]], dtype=np.double)\n",
    "permutation_count = 0"
   ]
  },
  {
   "cell_type": "code",
   "execution_count": 4,
   "metadata": {
    "ExecuteTime": {
     "start_time": "2023-04-19T15:56:22.316507Z",
     "end_time": "2023-04-19T15:56:22.347845Z"
    }
   },
   "outputs": [],
   "source": [
    "def column_max_element(column: int, matrix: np.array):\n",
    "    if column < 4:\n",
    "        array_col = matrix[0:4, column]\n",
    "        row = np.where(abs(array_col) == max(abs(array_col)))[0][0]\n",
    "        return row, column"
   ]
  },
  {
   "cell_type": "code",
   "execution_count": 5,
   "metadata": {
    "ExecuteTime": {
     "start_time": "2023-04-19T15:56:26.089649Z",
     "end_time": "2023-04-19T15:56:26.101643Z"
    }
   },
   "outputs": [],
   "source": [
    "def P_matrix(row_1: int, row_2: int):\n",
    "    global permutation_count\n",
    "    if row_1 != row_2:\n",
    "        permutation_count += 1\n",
    "    diagonal_matrix = np.diag([1.0, 1.0, 1.0, 1.0]).astype('double')\n",
    "    diagonal_matrix[[row_1, row_2]] = diagonal_matrix[[row_2, row_1]]\n",
    "    return diagonal_matrix"
   ]
  },
  {
   "cell_type": "code",
   "execution_count": 6,
   "metadata": {
    "ExecuteTime": {
     "start_time": "2023-04-19T15:56:26.446957Z",
     "end_time": "2023-04-19T15:56:26.489314Z"
    }
   },
   "outputs": [],
   "source": [
    "def M_matrix(column: int, matrix: np.array):\n",
    "    diagonal_matrix = np.diag([1.0,1.0,1.0,1.0]).astype('double')\n",
    "    main_element = matrix[column][column]\n",
    "    diagonal_matrix[column][column] = 1 / main_element\n",
    "    for row in range(column + 1, 4):\n",
    "        diagonal_matrix[row][column] = -matrix[row][column] / main_element\n",
    "    return diagonal_matrix"
   ]
  },
  {
   "cell_type": "code",
   "execution_count": 10,
   "outputs": [],
   "source": [
    "def get_inverse(matrix_def: np.array, matrix_diag: np.array):\n",
    "    di = matrix_diag[:, 0]\n",
    "    di_reshaped = di.reshape(4,1)\n",
    "    vector_res = get_result(np.concatenate((matrix_def[:4, :4],di_reshaped), axis=1))\n",
    "    matrix_solution = vector_res.reshape((4,1))\n",
    "    for i in range(1,4):\n",
    "        di = matrix_diag[:, i]\n",
    "        di_reshaped = di.reshape(4,1)\n",
    "        vector_res = get_result(np.concatenate((matrix_def[:4, :4],di_reshaped), axis=1))\n",
    "        matrix_solution = np.concatenate((matrix_solution, vector_res.reshape(4,1)), axis=1)\n",
    "    return matrix_solution"
   ],
   "metadata": {
    "collapsed": false,
    "ExecuteTime": {
     "start_time": "2023-04-19T15:56:29.956058Z",
     "end_time": "2023-04-19T15:56:29.987302Z"
    }
   }
  },
  {
   "cell_type": "code",
   "execution_count": 7,
   "outputs": [],
   "source": [
    "def new_matrix(column: int, matrix: np.array, diagonal_matrix = np.array([1,1,1,1])):\n",
    "    max_col = column_max_element(column, matrix)\n",
    "\n",
    "    permutation_matrix = P_matrix(max_col[0], max_col[1])\n",
    "\n",
    "    diagon_matrix_P = np.dot(permutation_matrix, diagonal_matrix)\n",
    "    matrix_P = np.dot(permutation_matrix, matrix)\n",
    "\n",
    "    transition_matrix = M_matrix(max_col[1], matrix_P)\n",
    "\n",
    "    diagon_matrix_new = np.dot(transition_matrix, diagon_matrix_P)\n",
    "    matrix_new = np.dot(transition_matrix, matrix_P)\n",
    "\n",
    "    return matrix_new, diagon_matrix_new, matrix_P"
   ],
   "metadata": {
    "collapsed": false
   }
  },
  {
   "cell_type": "code",
   "execution_count": 8,
   "outputs": [],
   "source": [
    "def get_determinant(permutation_count: int, matrix: np.array):\n",
    "    det = pow(-1, permutation_count)\n",
    "    for i in range(0,4):\n",
    "        matrix, P_matrix = new_matrix(i, matrix)[0], new_matrix(i,matrix)[2]\n",
    "        det *= P_matrix[i][i]\n",
    "    return det"
   ],
   "metadata": {
    "collapsed": false
   }
  },
  {
   "cell_type": "code",
   "execution_count": 9,
   "outputs": [],
   "source": [
    "def get_result(matrix: np.array):\n",
    "    matrix_4_4 = matrix[:4, :4]\n",
    "    matrix_1_4 = matrix[:, -1]\n",
    "    m, n = matrix_4_4.shape\n",
    "    x_solution = np.zeros(n)\n",
    "    for i in range(m-1, -1, -1):\n",
    "        x_solution[i] = (matrix_1_4[i] - np.dot(matrix_4_4[i,i+1:], x_solution[i+1:])) / matrix_4_4[i,i]\n",
    "    return x_solution"
   ],
   "metadata": {
    "collapsed": false
   }
  },
  {
   "cell_type": "code",
   "execution_count": 11,
   "metadata": {
    "ExecuteTime": {
     "start_time": "2023-04-19T15:56:30.490980Z",
     "end_time": "2023-04-19T15:56:30.506652Z"
    }
   },
   "outputs": [],
   "source": [
    "def result_high_precision():\n",
    "    np.set_printoptions(precision=10, suppress=False)\n",
    "    matrix = matrix_default.copy()\n",
    "    diagonal_matrix = np.diag([1.0,1.0,1.0,1.0]).astype('double')\n",
    "    for i in range(0,4):\n",
    "        matrix, diagonal_matrix, P_matrix = new_matrix(i, matrix, diagonal_matrix)\n",
    "        print(f\"A:{i+1}\\n\", matrix)\n",
    "        print(f\"Diagonal_Matrix(Inverse):{i+1}\\n\",diagonal_matrix)\n",
    "    print(f\"Determinant: \",get_determinant(permutation_count, matrix_default.copy()))\n",
    "    print(f\"Vector_Solution: \",get_result(matrix))\n",
    "    print(f\"Matrix Inverse: \\n\", get_inverse(matrix, diagonal_matrix))"
   ]
  },
  {
   "cell_type": "code",
   "execution_count": 12,
   "metadata": {
    "ExecuteTime": {
     "start_time": "2023-04-19T15:56:30.898741Z",
     "end_time": "2023-04-19T15:56:30.912555Z"
    }
   },
   "outputs": [],
   "source": [
    "def result_low_precision():\n",
    "    np.set_printoptions(precision=2, suppress=True)\n",
    "\n",
    "    matrix = matrix_default.copy()\n",
    "    diagonal_matrix = np.diag([1.0,1.0,1.0,1.0]).astype('double')\n",
    "    for i in range(0,4):\n",
    "        matrix, diagonal_matrix, P_matrix = new_matrix(i, matrix, diagonal_matrix)\n",
    "        print(f\"A:{i+1}\\n\", matrix)\n",
    "        print(f\"Diagonal_Matrix(Inverse):{i+1}\\n\",diagonal_matrix)\n",
    "    print(f\"Determinant: \",get_determinant(permutation_count, matrix_default.copy()))\n",
    "    print(f\"Vector_Solution: \",get_result(matrix))\n",
    "    print(f\"Matrix Inverse: \\n\", get_inverse(matrix, diagonal_matrix))"
   ]
  },
  {
   "cell_type": "code",
   "execution_count": 13,
   "outputs": [
    {
     "name": "stdout",
     "output_type": "stream",
     "text": [
      "A:1\n",
      " [[  1.    0.4   0.2   0.    2.8]\n",
      " [  0.    2.6   1.8   8.   62.2]\n",
      " [  0.   -7.6   0.2   0.  -14.2]\n",
      " [  0.   -2.    2.    2.   18. ]]\n",
      "Diagonal_Matrix(Inverse):1\n",
      " [[ 0.2  0.   0.   0. ]\n",
      " [-0.2  1.   0.   0. ]\n",
      " [-0.8  0.   1.   0. ]\n",
      " [-1.   0.   0.   1. ]]\n",
      "A:2\n",
      " [[ 1.0000000000e+00  4.0000000000e-01  2.0000000000e-01  0.0000000000e+00\n",
      "   2.8000000000e+00]\n",
      " [ 0.0000000000e+00  1.0000000000e+00 -2.6315789474e-02  0.0000000000e+00\n",
      "   1.8684210526e+00]\n",
      " [ 0.0000000000e+00  0.0000000000e+00  1.8684210526e+00  8.0000000000e+00\n",
      "   5.7342105263e+01]\n",
      " [ 0.0000000000e+00 -2.2204460493e-16  1.9473684211e+00  2.0000000000e+00\n",
      "   2.1736842105e+01]]\n",
      "Diagonal_Matrix(Inverse):2\n",
      " [[ 0.2           0.            0.            0.          ]\n",
      " [ 0.1052631579  0.           -0.1315789474  0.          ]\n",
      " [-0.4736842105  1.            0.3421052632  0.          ]\n",
      " [-0.7894736842  0.           -0.2631578947  1.          ]]\n",
      "A:3\n",
      " [[ 1.0000000000e+00  4.0000000000e-01  2.0000000000e-01  0.0000000000e+00\n",
      "   2.8000000000e+00]\n",
      " [ 0.0000000000e+00  1.0000000000e+00 -2.6315789474e-02  0.0000000000e+00\n",
      "   1.8684210526e+00]\n",
      " [ 0.0000000000e+00 -1.1402290523e-16  1.0000000000e+00  1.0270270270e+00\n",
      "   1.1162162162e+01]\n",
      " [ 0.0000000000e+00  2.1304279662e-16  0.0000000000e+00  6.0810810811e+00\n",
      "   3.6486486486e+01]]\n",
      "Diagonal_Matrix(Inverse):3\n",
      " [[ 0.2           0.            0.            0.          ]\n",
      " [ 0.1052631579  0.           -0.1315789474  0.          ]\n",
      " [-0.4054054054  0.           -0.1351351351  0.5135135135]\n",
      " [ 0.2837837838  1.            0.5945945946 -0.9594594595]]\n",
      "A:4\n",
      " [[ 1.0000000000e+00  4.0000000000e-01  2.0000000000e-01  0.0000000000e+00\n",
      "   2.8000000000e+00]\n",
      " [ 0.0000000000e+00  1.0000000000e+00 -2.6315789474e-02  0.0000000000e+00\n",
      "   1.8684210526e+00]\n",
      " [ 0.0000000000e+00 -1.1402290523e-16  1.0000000000e+00  1.0270270270e+00\n",
      "   1.1162162162e+01]\n",
      " [ 0.0000000000e+00  3.5033704333e-17  0.0000000000e+00  1.0000000000e+00\n",
      "   6.0000000000e+00]]\n",
      "Diagonal_Matrix(Inverse):4\n",
      " [[ 0.2           0.            0.            0.          ]\n",
      " [ 0.1052631579  0.           -0.1315789474  0.          ]\n",
      " [-0.4054054054  0.           -0.1351351351  0.5135135135]\n",
      " [ 0.0466666667  0.1644444444  0.0977777778 -0.1577777778]]\n",
      "Determinant:  -450.0\n",
      "Vector_Solution:  [1. 2. 5. 6.]\n",
      "Matrix Inverse: \n",
      " [[ 0.2533333333  0.0355555556  0.1022222222 -0.1422222222]\n",
      " [ 0.0933333333 -0.0044444444 -0.1377777778  0.0177777778]\n",
      " [-0.4533333333 -0.1688888889 -0.2355555556  0.6755555556]\n",
      " [ 0.0466666667  0.1644444444  0.0977777778 -0.1577777778]]\n"
     ]
    }
   ],
   "source": [
    "result_high_precision()"
   ],
   "metadata": {
    "collapsed": false,
    "ExecuteTime": {
     "start_time": "2023-04-19T15:56:32.621376Z",
     "end_time": "2023-04-19T15:56:32.670734Z"
    }
   }
  },
  {
   "cell_type": "code",
   "execution_count": 14,
   "outputs": [
    {
     "name": "stdout",
     "output_type": "stream",
     "text": [
      "A:1\n",
      " [[  1.    0.4   0.2   0.    2.8]\n",
      " [  0.    2.6   1.8   8.   62.2]\n",
      " [  0.   -7.6   0.2   0.  -14.2]\n",
      " [  0.   -2.    2.    2.   18. ]]\n",
      "Diagonal_Matrix(Inverse):1\n",
      " [[ 0.2  0.   0.   0. ]\n",
      " [-0.2  1.   0.   0. ]\n",
      " [-0.8  0.   1.   0. ]\n",
      " [-1.   0.   0.   1. ]]\n",
      "A:2\n",
      " [[ 1.    0.4   0.2   0.    2.8 ]\n",
      " [ 0.    1.   -0.03  0.    1.87]\n",
      " [ 0.    0.    1.87  8.   57.34]\n",
      " [ 0.   -0.    1.95  2.   21.74]]\n",
      "Diagonal_Matrix(Inverse):2\n",
      " [[ 0.2   0.    0.    0.  ]\n",
      " [ 0.11  0.   -0.13  0.  ]\n",
      " [-0.47  1.    0.34  0.  ]\n",
      " [-0.79  0.   -0.26  1.  ]]\n",
      "A:3\n",
      " [[ 1.    0.4   0.2   0.    2.8 ]\n",
      " [ 0.    1.   -0.03  0.    1.87]\n",
      " [ 0.   -0.    1.    1.03 11.16]\n",
      " [ 0.    0.    0.    6.08 36.49]]\n",
      "Diagonal_Matrix(Inverse):3\n",
      " [[ 0.2   0.    0.    0.  ]\n",
      " [ 0.11  0.   -0.13  0.  ]\n",
      " [-0.41  0.   -0.14  0.51]\n",
      " [ 0.28  1.    0.59 -0.96]]\n",
      "A:4\n",
      " [[ 1.    0.4   0.2   0.    2.8 ]\n",
      " [ 0.    1.   -0.03  0.    1.87]\n",
      " [ 0.   -0.    1.    1.03 11.16]\n",
      " [ 0.    0.    0.    1.    6.  ]]\n",
      "Diagonal_Matrix(Inverse):4\n",
      " [[ 0.2   0.    0.    0.  ]\n",
      " [ 0.11  0.   -0.13  0.  ]\n",
      " [-0.41  0.   -0.14  0.51]\n",
      " [ 0.05  0.16  0.1  -0.16]]\n",
      "Determinant:  -450.0\n",
      "Vector_Solution:  [1. 2. 5. 6.]\n",
      "Matrix Inverse: \n",
      " [[ 0.25  0.04  0.1  -0.14]\n",
      " [ 0.09 -0.   -0.14  0.02]\n",
      " [-0.45 -0.17 -0.24  0.68]\n",
      " [ 0.05  0.16  0.1  -0.16]]\n"
     ]
    }
   ],
   "source": [
    "result_low_precision()"
   ],
   "metadata": {
    "collapsed": false,
    "ExecuteTime": {
     "start_time": "2023-04-19T15:56:33.518637Z",
     "end_time": "2023-04-19T15:56:33.538241Z"
    }
   }
  }
 ],
 "metadata": {
  "kernelspec": {
   "display_name": "Python 3 (ipykernel)",
   "language": "python",
   "name": "python3"
  },
  "language_info": {
   "codemirror_mode": {
    "name": "ipython",
    "version": 3
   },
   "file_extension": ".py",
   "mimetype": "text/x-python",
   "name": "python",
   "nbconvert_exporter": "python",
   "pygments_lexer": "ipython3",
   "version": "3.9.13"
  }
 },
 "nbformat": 4,
 "nbformat_minor": 1
}
